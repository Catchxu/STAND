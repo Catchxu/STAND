{
 "cells": [
  {
   "cell_type": "code",
   "execution_count": 13,
   "id": "73121e8d-90c5-4678-b7ba-7dacd7292d84",
   "metadata": {},
   "outputs": [],
   "source": [
    "import scanpy as sc\n",
    "import anndata as ad\n",
    "import numpy as np\n",
    "import pandas as pd\n",
    "import cv2\n",
    "from PIL import Image\n",
    "from time import time\n",
    "from sklearn.metrics import precision_score,adjusted_rand_score,recall_score,f1_score,accuracy_score, normalized_mutual_info_score\n",
    "import matplotlib.pyplot as plt\n",
    "\n",
    "from istar.utils import save_image, load_image, save_tsv, write_string, load_pickle\n",
    "from istar.rescale import rescale_image\n",
    "from istar.preprocess import adjust_margins\n",
    "from istar.extract_features import main_my as extract_features\n",
    "from istar.get_mask import main_my as get_mask\n",
    "from istar.select_genes import main_my as select_genes\n",
    "from istar.impute import main_my as impute\n",
    "from istar.cluster import main_my as cluster\n",
    "\n",
    "import spatialid\n",
    "\n",
    "def seed_everything(seed):\n",
    "    torch.manual_seed(seed)\n",
    "    torch.cuda.manual_seed_all(seed)\n",
    "    np.random.seed(seed)\n",
    "    random.seed(seed)\n",
    "    torch.backends.cudnn.deterministic = True\n",
    "    dgl.random.seed(seed)\n",
    "\n",
    "def detect_spatialid(train: ad.AnnData, test: ad.AnnData, random_state: int):\n",
    "    seed_everything(random_state)\n",
    "    \n",
    "    spatial = spatialid.transfer.Transfer(spatial_data=test, single_data=train)\n",
    "    spatial.learn_sc()\n",
    "    y_score = spatial.annotation()\n",
    "    \n",
    "    ratio = 100.0 * (test.obs['anomaly_label'].value_counts()[1] / len(test.obs['anomaly_label']))\n",
    "    thres = np.percentile(y_score, ratio)\n",
    "    result = (y_score < thres).astype(int)\n",
    "    return result"
   ]
  },
  {
   "cell_type": "code",
   "execution_count": 49,
   "id": "4b41aab4-7dbd-45fb-8fdd-313ed48c8f05",
   "metadata": {
    "tags": []
   },
   "outputs": [
    {
     "data": {
      "text/plain": [
       "AnnData object with n_obs × n_vars = 7672 × 3000\n",
       "    obs: 'cell_type', 'TLS', 'cell.type', 'anomaly_label', 'subtype_label', 'batch'\n",
       "    obsm: 'X_pca', 'X_umap', 'spatial'\n",
       "    layers: 'raw_count'"
      ]
     },
     "execution_count": 49,
     "metadata": {},
     "output_type": "execute_result"
    }
   ],
   "source": [
    "ref_dir = '/volume3/ylu/STANDS/hRCC_TLS/RCC_c2.h5ad'\n",
    "adata_dir1 = '/volume3/ylu/STANDS/hRCC_TLS/RCC_c3.h5ad'\n",
    "adata_dir2 = '/volume3/ylu/STANDS/hRCC_TLS/RCC_c4.h5ad'\n",
    "n_cluster = 5\n",
    "locs_id = 'spatial'\n",
    "\n",
    "ref = sc.read_h5ad(ref_dir)\n",
    "\n",
    "adata1 = sc.read_h5ad(adata_dir1)\n",
    "adata1.obs['batch'] = 'batch1'\n",
    "adata2 = sc.read_h5ad(adata_dir2)\n",
    "adata2.obs['batch'] = 'batch2'\n",
    "\n",
    "# concate the histology image\n",
    "img1 = adata1.uns['spatial']['stomic']['images']['hires']\n",
    "img2 = adata2.uns['spatial']['stomic']['images']['hires']\n",
    "\n",
    "height = max(img1.shape[0], img2.shape[0])\n",
    "width = max(img1.shape[1], img2.shape[1])\n",
    "img1 = cv2.cvtColor(img1, cv2.COLOR_BGRA2BGR)\n",
    "img1 = cv2.cvtColor(img1, cv2.COLOR_BGRA2BGR)\n",
    "\n",
    "canvas1 = np.zeros((height, width, 3)).astype(float)\n",
    "canvas2 = np.zeros((height, width, 3)).astype(float)\n",
    "\n",
    "canvas1[:img1.shape[0], :img1.shape[1], :] = img1\n",
    "canvas2[:img2.shape[0], :img2.shape[1], :] = img2\n",
    "img = np.hstack((canvas1, canvas2))\n",
    "img = (img - img.min()) / (img.max() - img.min())\n",
    "img = (img * 255).astype(np.uint8)\n",
    "\n",
    "# adjust location\n",
    "factor1 = adata1.uns['spatial']['stomic']['scalefactors']['tissue_hires_scalef']\n",
    "factor2 = adata2.uns['spatial']['stomic']['scalefactors']['tissue_hires_scalef']\n",
    "adata1.obsm[locs_id] = adata1.obsm[locs_id] * factor1\n",
    "adata2.obsm[locs_id] = adata2.obsm[locs_id] * factor1\n",
    "adata2.obsm[locs_id][:,0] += width\n",
    "\n",
    "adata = ad.concat([adata1, adata2], merge='same')\n",
    "adata"
   ]
  },
  {
   "cell_type": "code",
   "execution_count": 63,
   "id": "5a0d42ef-bcf7-4d1e-b765-a60f8d65ff5a",
   "metadata": {},
   "outputs": [],
   "source": [
    "adata.obs['SpatialID'] = detect_spatialid(train=ref, test=adata, random_state=0)"
   ]
  },
  {
   "cell_type": "code",
   "execution_count": 52,
   "id": "d5a8f11a-0b5f-4ca0-b926-72fd8c11cc49",
   "metadata": {
    "tags": []
   },
   "outputs": [
    {
     "name": "stdout",
     "output_type": "stream",
     "text": [
      "Found 588 genes with zero variance.\n"
     ]
    },
    {
     "data": {
      "text/plain": [
       "View of AnnData object with n_obs × n_vars = 456 × 3000\n",
       "    obs: 'cell_type', 'TLS', 'cell.type', 'anomaly_label', 'subtype_label', 'batch', 'spatialid'\n",
       "    obsm: 'X_pca', 'X_umap', 'spatial'\n",
       "    layers: 'raw_count'"
      ]
     },
     "execution_count": 52,
     "metadata": {},
     "output_type": "execute_result"
    }
   ],
   "source": [
    "d = './istar_data/'\n",
    "sid = adata[adata.obs['SpatialID']==1]\n",
    "# run combat\n",
    "sc.pp.combat(sid, inplace = True)"
   ]
  },
  {
   "cell_type": "code",
   "execution_count": 53,
   "id": "6ef01576-956c-4427-b9b9-c2dc7ea6119b",
   "metadata": {
    "tags": []
   },
   "outputs": [
    {
     "name": "stdout",
     "output_type": "stream",
     "text": [
      "./istar_data/he-scaled.jpg\n",
      "./istar_data/he.jpg\n",
      "Image loaded from ./istar_data/he.jpg\n",
      "Smoothening cls embeddings...\n",
      "runtime: 0\n",
      "Smoothening sub embeddings...\n",
      "runtime: 0\n",
      "Saving embeddings...\n",
      "0 sec\n",
      "Embeddings saved to ./istar_data/embeddings-hist.pickle\n",
      "Pickle loaded from ./istar_data/embeddings-hist.pickle\n",
      "Clustering pixels using km...\n",
      "(3072, 579)\n",
      "1 sec\n",
      "n_clusters: 2\n",
      "./istar_data/mask-small.png\n",
      "Image loaded from ./istar_data/mask-small.png\n",
      "./istar_data/locs.tsv\n",
      "./istar_data/mask-small.png\n",
      "./istar_data/gene-names.txt\n",
      "./istar_data/radius.txt\n",
      "Pickle loaded from ./istar_data/embeddings-hist.pickle\n",
      "Dataframe loaded from ./istar_data/locs.tsv\n",
      "Image loaded from ./istar_data/he.jpg\n",
      "x: (64, 128, 579) , y: (456, 3000)\n",
      "minmax: (-3.9474597e-16, 1.9412891864786612)\n",
      "./istar_data/states/00/training-data-plots/x0000.png\n",
      "minmax: (0.0, 0.9968997240076528)\n",
      "./istar_data/states/00/training-data-plots/y0000.png\n"
     ]
    },
    {
     "name": "stderr",
     "output_type": "stream",
     "text": [
      "GPU available: True, used: True\n",
      "TPU available: False, using: 0 TPU cores\n",
      "IPU available: False, using: 0 IPUs\n",
      "HPU available: False, using: 0 HPUs\n",
      "LOCAL_RANK: 0 - CUDA_VISIBLE_DEVICES: [0,1]\n",
      "\n",
      "  | Name    | Type        | Params\n",
      "----------------------------------------\n",
      "0 | net_lat | Sequential  | 345 K \n",
      "1 | net_out | FeedForward | 771 K \n",
      "----------------------------------------\n",
      "1.1 M     Trainable params\n",
      "0         Non-trainable params\n",
      "1.1 M     Total params\n",
      "4.467     Total estimated model params size (MB)\n"
     ]
    },
    {
     "data": {
      "application/vnd.jupyter.widget-view+json": {
       "model_id": "da8176b07896429792c430ce5e0aad9b",
       "version_major": 2,
       "version_minor": 0
      },
      "text/plain": [
       "Training: 0it [00:00, ?it/s]"
      ]
     },
     "metadata": {},
     "output_type": "display_data"
    },
    {
     "name": "stdout",
     "output_type": "stream",
     "text": [
      "134 sec\n",
      "Model saved to ./istar_data/states/00/model.pt\n",
      "History saved to ./istar_data/states/00/history.pickle\n"
     ]
    },
    {
     "name": "stderr",
     "output_type": "stream",
     "text": [
      "GPU available: True, used: True\n",
      "TPU available: False, using: 0 TPU cores\n",
      "IPU available: False, using: 0 IPUs\n",
      "HPU available: False, using: 0 HPUs\n",
      "LOCAL_RANK: 0 - CUDA_VISIBLE_DEVICES: [0,1]\n",
      "\n",
      "  | Name    | Type        | Params\n",
      "----------------------------------------\n",
      "0 | net_lat | Sequential  | 345 K \n",
      "1 | net_out | FeedForward | 771 K \n",
      "----------------------------------------\n",
      "1.1 M     Trainable params\n",
      "0         Non-trainable params\n",
      "1.1 M     Total params\n",
      "4.467     Total estimated model params size (MB)\n"
     ]
    },
    {
     "name": "stdout",
     "output_type": "stream",
     "text": [
      "./istar_data/states/00/history.png\n",
      "x: (64, 128, 579) , y: (456, 3000)\n",
      "minmax: (-3.9474597e-16, 1.9412891864786612)\n",
      "./istar_data/states/01/training-data-plots/x0000.png\n",
      "minmax: (0.0, 0.9968997240076528)\n",
      "./istar_data/states/01/training-data-plots/y0000.png\n"
     ]
    },
    {
     "data": {
      "application/vnd.jupyter.widget-view+json": {
       "model_id": "38a26a408d3440d7bc0e9eb52e35d471",
       "version_major": 2,
       "version_minor": 0
      },
      "text/plain": [
       "Training: 0it [00:00, ?it/s]"
      ]
     },
     "metadata": {},
     "output_type": "display_data"
    },
    {
     "name": "stdout",
     "output_type": "stream",
     "text": [
      "127 sec\n",
      "Model saved to ./istar_data/states/01/model.pt\n",
      "History saved to ./istar_data/states/01/history.pickle\n"
     ]
    },
    {
     "name": "stderr",
     "output_type": "stream",
     "text": [
      "GPU available: True, used: True\n",
      "TPU available: False, using: 0 TPU cores\n",
      "IPU available: False, using: 0 IPUs\n",
      "HPU available: False, using: 0 HPUs\n",
      "LOCAL_RANK: 0 - CUDA_VISIBLE_DEVICES: [0,1]\n",
      "\n",
      "  | Name    | Type        | Params\n",
      "----------------------------------------\n",
      "0 | net_lat | Sequential  | 345 K \n",
      "1 | net_out | FeedForward | 771 K \n",
      "----------------------------------------\n",
      "1.1 M     Trainable params\n",
      "0         Non-trainable params\n",
      "1.1 M     Total params\n",
      "4.467     Total estimated model params size (MB)\n"
     ]
    },
    {
     "name": "stdout",
     "output_type": "stream",
     "text": [
      "./istar_data/states/01/history.png\n",
      "x: (64, 128, 579) , y: (456, 3000)\n",
      "minmax: (-3.9474597e-16, 1.9412891864786612)\n",
      "./istar_data/states/02/training-data-plots/x0000.png\n",
      "minmax: (0.0, 0.9968997240076528)\n",
      "./istar_data/states/02/training-data-plots/y0000.png\n"
     ]
    },
    {
     "data": {
      "application/vnd.jupyter.widget-view+json": {
       "model_id": "46db14cebdcb4360ab6be9ae941d9e09",
       "version_major": 2,
       "version_minor": 0
      },
      "text/plain": [
       "Training: 0it [00:00, ?it/s]"
      ]
     },
     "metadata": {},
     "output_type": "display_data"
    },
    {
     "name": "stdout",
     "output_type": "stream",
     "text": [
      "129 sec\n",
      "Model saved to ./istar_data/states/02/model.pt\n",
      "History saved to ./istar_data/states/02/history.pickle\n"
     ]
    },
    {
     "name": "stderr",
     "output_type": "stream",
     "text": [
      "GPU available: True, used: True\n",
      "TPU available: False, using: 0 TPU cores\n",
      "IPU available: False, using: 0 IPUs\n",
      "HPU available: False, using: 0 HPUs\n",
      "LOCAL_RANK: 0 - CUDA_VISIBLE_DEVICES: [0,1]\n",
      "\n",
      "  | Name    | Type        | Params\n",
      "----------------------------------------\n",
      "0 | net_lat | Sequential  | 345 K \n",
      "1 | net_out | FeedForward | 771 K \n",
      "----------------------------------------\n",
      "1.1 M     Trainable params\n",
      "0         Non-trainable params\n",
      "1.1 M     Total params\n",
      "4.467     Total estimated model params size (MB)\n"
     ]
    },
    {
     "name": "stdout",
     "output_type": "stream",
     "text": [
      "./istar_data/states/02/history.png\n",
      "x: (64, 128, 579) , y: (456, 3000)\n",
      "minmax: (-3.9474597e-16, 1.9412891864786612)\n",
      "./istar_data/states/03/training-data-plots/x0000.png\n",
      "minmax: (0.0, 0.9968997240076528)\n",
      "./istar_data/states/03/training-data-plots/y0000.png\n"
     ]
    },
    {
     "data": {
      "application/vnd.jupyter.widget-view+json": {
       "model_id": "4b488c1eb5ce4085aa8770e158570ec8",
       "version_major": 2,
       "version_minor": 0
      },
      "text/plain": [
       "Training: 0it [00:00, ?it/s]"
      ]
     },
     "metadata": {},
     "output_type": "display_data"
    },
    {
     "name": "stdout",
     "output_type": "stream",
     "text": [
      "131 sec\n",
      "Model saved to ./istar_data/states/03/model.pt\n",
      "History saved to ./istar_data/states/03/history.pickle\n"
     ]
    },
    {
     "name": "stderr",
     "output_type": "stream",
     "text": [
      "GPU available: True, used: True\n",
      "TPU available: False, using: 0 TPU cores\n",
      "IPU available: False, using: 0 IPUs\n",
      "HPU available: False, using: 0 HPUs\n",
      "LOCAL_RANK: 0 - CUDA_VISIBLE_DEVICES: [0,1]\n",
      "\n",
      "  | Name    | Type        | Params\n",
      "----------------------------------------\n",
      "0 | net_lat | Sequential  | 345 K \n",
      "1 | net_out | FeedForward | 771 K \n",
      "----------------------------------------\n",
      "1.1 M     Trainable params\n",
      "0         Non-trainable params\n",
      "1.1 M     Total params\n",
      "4.467     Total estimated model params size (MB)\n"
     ]
    },
    {
     "name": "stdout",
     "output_type": "stream",
     "text": [
      "./istar_data/states/03/history.png\n",
      "x: (64, 128, 579) , y: (456, 3000)\n",
      "minmax: (-3.9474597e-16, 1.9412891864786612)\n",
      "./istar_data/states/04/training-data-plots/x0000.png\n",
      "minmax: (0.0, 0.9968997240076528)\n",
      "./istar_data/states/04/training-data-plots/y0000.png\n"
     ]
    },
    {
     "data": {
      "application/vnd.jupyter.widget-view+json": {
       "model_id": "5c5df2049c714f31b1add5751c2e2892",
       "version_major": 2,
       "version_minor": 0
      },
      "text/plain": [
       "Training: 0it [00:00, ?it/s]"
      ]
     },
     "metadata": {},
     "output_type": "display_data"
    },
    {
     "name": "stdout",
     "output_type": "stream",
     "text": [
      "130 sec\n",
      "Model saved to ./istar_data/states/04/model.pt\n",
      "History saved to ./istar_data/states/04/history.pickle\n",
      "./istar_data/states/04/history.png\n",
      "Pickle loaded from ./istar_data/embeddings-gene.pickle\n",
      "Image loaded from ./istar_data/mask-small.png\n",
      "Smoothing embeddings...\n",
      "gaussian filter: winsize=17, sigma=2.0\n",
      "0 sec\n",
      "Clustering pixels using km...\n",
      "(2675, 256)\n",
      "0 sec\n",
      "n_clusters: 5\n",
      "./istar_data/clusters-gene/labels.png\n",
      "./istar_data/clusters-gene/masks/000.png\n",
      "./istar_data/clusters-gene/masks/001.png\n",
      "./istar_data/clusters-gene/masks/002.png\n",
      "./istar_data/clusters-gene/masks/003.png\n",
      "./istar_data/clusters-gene/masks/004.png\n",
      "Pickle loaded from ./istar_data/clusters-gene/labels.pickle\n"
     ]
    }
   ],
   "source": [
    "locs = pd.DataFrame(sid.obsm[locs_id], index=sid.obs_names, columns=['x', 'y'])\n",
    "cnts = pd.DataFrame(sid.X.toarray(), index=sid.obs_names, columns=sid.var_names)\n",
    "# rescale image\n",
    "pixel_size_raw = 0.25  # float(read_string(args.prefix+'pixel-size-raw.txt'))\n",
    "pixel_size = 0.5  # float(read_string(args.prefix+'pixel-size.txt'))\n",
    "scale = pixel_size_raw / pixel_size\n",
    "# img = load_image(get_image_filename(args.prefix+'he-raw'))\n",
    "img = np.array(img)\n",
    "if img.ndim == 3 and img.shape[-1] == 4:\n",
    "    img = img[..., :3]  # remove alpha channel\n",
    "img = img.astype(np.float32)\n",
    "# print(f'Rescaling image (scale: {scale:.3f})...')\n",
    "t0 = time()\n",
    "img = rescale_image(img, scale)\n",
    "# print(int(time() - t0), 'sec')\n",
    "img = img.astype(np.uint8)\n",
    "save_image(img, d+'he-scaled.jpg')\n",
    "\n",
    "# preprocess image\n",
    "pad = 256\n",
    "# load histology image\n",
    "# img = load_image(d+'he-scaled.jpg')\n",
    "# pad image with white to make dimension divisible by 256\n",
    "img = adjust_margins(img, pad=pad, pad_value=255)\n",
    "# save histology image\n",
    "save_image(img, f'{d}he.jpg')\n",
    "\n",
    "random_state = 0\n",
    "extract_features(d, random_state=random_state)\n",
    "\n",
    "get_mask(inpfile=d+'embeddings-hist.pickle', outfile=d+'mask-small.png')\n",
    "\n",
    "r = 3\n",
    "mask = load_image(d+'mask-small.png')\n",
    "new_mask = np.zeros_like(mask, dtype=bool)\n",
    "# locs = pd.DataFrame(sid.obsm['spatial'], index=sid.obs_names, columns=['x', 'y'])\n",
    "locs = locs * scale\n",
    "locs = locs.round().astype(int)\n",
    "save_tsv(locs, d+'locs.tsv')\n",
    "position = (locs / 16).round().astype(int)\n",
    "for index, row in position.iterrows():\n",
    "    x, y = row['x'], row['y']\n",
    "    new_mask[y, x] = True\n",
    "    for i in range(y - r, y + r + 1):\n",
    "        for j in range(x - r, x + r + 1):\n",
    "            if 0 <= i and 0 <= j:\n",
    "                new_mask[i, j] = True\n",
    "save_image(new_mask, d+'mask-small.png')\n",
    "\n",
    "# select genes\n",
    "n_top_genes = 3000\n",
    "select_genes(d, cnts, n_top=n_top_genes)\n",
    "\n",
    "radius = float(200)\n",
    "radius = radius * scale\n",
    "radius = np.round(radius).astype(int)\n",
    "write_string(radius, d+'radius.txt')\n",
    "\n",
    "# train gene expression prediction model and predict at super-resolution\n",
    "impute(d, cnts=cnts, device='cuda')\n",
    "\n",
    "# segment image by gene features\n",
    "cluster(d, n_clusters = n_cluster)\n",
    "\n",
    "labels = load_pickle(d+'clusters-gene/labels.pickle')\n",
    "\n",
    "label = position.apply(lambda row: labels[row['y'], row['x']], axis=1)"
   ]
  },
  {
   "cell_type": "code",
   "execution_count": null,
   "id": "1eede1d9",
   "metadata": {},
   "outputs": [],
   "source": []
  }
 ],
 "metadata": {
  "kernelspec": {
   "display_name": "mamba",
   "language": "python",
   "name": "mamba"
  },
  "language_info": {
   "codemirror_mode": {
    "name": "ipython",
    "version": 3
   },
   "file_extension": ".py",
   "mimetype": "text/x-python",
   "name": "python",
   "nbconvert_exporter": "python",
   "pygments_lexer": "ipython3",
   "version": "3.9.15"
  }
 },
 "nbformat": 4,
 "nbformat_minor": 5
}
