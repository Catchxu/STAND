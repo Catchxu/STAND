{
 "cells": [
  {
   "cell_type": "markdown",
   "metadata": {},
   "source": [
    "# Tutorial 0: Pretrain STANDS basic extractor"
   ]
  },
  {
   "cell_type": "markdown",
   "metadata": {},
   "source": [
    "STANDS employ the pretrained image extractor (ResNet backbones) and modality fusion block (Transformer bacbones). For a more accurate performance in subsequent tasks, we encourage you to pretrain STANDS on large-scale public spatial transcriptomics datasets. This tutorial will guide you to pretrain STANDS and\n",
    "save the pretrained weights automatically."
   ]
  },
  {
   "cell_type": "markdown",
   "metadata": {},
   "source": [
    "## Loading package"
   ]
  },
  {
   "cell_type": "code",
   "execution_count": 1,
   "metadata": {},
   "outputs": [],
   "source": [
    "import warnings\n",
    "warnings.filterwarnings(\"ignore\")"
   ]
  },
  {
   "cell_type": "code",
   "execution_count": 2,
   "metadata": {},
   "outputs": [],
   "source": [
    "import stands\n",
    "import numpy as np\n",
    "import scanpy as sc"
   ]
  },
  {
   "cell_type": "markdown",
   "metadata": {},
   "source": [
    "## Reading ST data"
   ]
  },
  {
   "cell_type": "markdown",
   "metadata": {},
   "source": [
    "We strongly recommend using multiple ST datasets that contain both images and spatial gene expressions to pretrain STANDS. Here, the demo dataset we provide consists of three slices taken from different donors, with spatial coordinates stored in `adata.obsm['spatial']` and images in `adata.uns['spatial']`."
   ]
  },
  {
   "cell_type": "code",
   "execution_count": 3,
   "metadata": {},
   "outputs": [],
   "source": [
    "adata_list = []\n",
    "path = './HumanBreast/process/'\n",
    "data_name = ['V05', 'V06', 'V07']\n",
    "for d in data_name:\n",
    "    read_path = path + d + '.h5ad'\n",
    "    a = sc.read_h5ad(read_path)\n",
    "    adata_list.append(a)"
   ]
  },
  {
   "cell_type": "markdown",
   "metadata": {},
   "source": [
    "## Pretraining the model"
   ]
  },
  {
   "cell_type": "markdown",
   "metadata": {},
   "source": [
    "By directly inputting the data list into `STANDS.pretrain`, specifying the patch size and the GPU for pretraining, you can automatically conduct pretraining and save the weights. In this case, the pretraining task is set as unsupervised reconstruction, so there is no need for cell type annotations."
   ]
  },
  {
   "cell_type": "code",
   "execution_count": 4,
   "metadata": {},
   "outputs": [
    {
     "name": "stdout",
     "output_type": "stream",
     "text": [
      "Begin to pretrain STANDS...\n"
     ]
    },
    {
     "name": "stderr",
     "output_type": "stream",
     "text": [
      "Pretrain STANDS: 100%|██████████| 100/100 [37:29<00:00, 22.49s/it, Loss=0.14]\n"
     ]
    },
    {
     "name": "stdout",
     "output_type": "stream",
     "text": [
      "The pretrained weights for STANDS have been automatically saved at /stands/model/backbone/model.pth!\n"
     ]
    }
   ],
   "source": [
    "stands.pretrain(adata_list, patch_size=64, GPU='cuda:0')"
   ]
  }
 ],
 "metadata": {
  "kernelspec": {
   "display_name": "mamba",
   "language": "python",
   "name": "mamba"
  },
  "language_info": {
   "codemirror_mode": {
    "name": "ipython",
    "version": 3
   },
   "file_extension": ".py",
   "mimetype": "text/x-python",
   "name": "python",
   "nbconvert_exporter": "python",
   "pygments_lexer": "ipython3",
   "version": "3.9.15"
  }
 },
 "nbformat": 4,
 "nbformat_minor": 4
}
