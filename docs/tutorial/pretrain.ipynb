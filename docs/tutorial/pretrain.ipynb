{
 "cells": [
  {
   "cell_type": "markdown",
   "id": "a1403d13-3869-4a87-b0e8-272e42cd0642",
   "metadata": {
    "tags": []
   },
   "source": [
    "# Tutorial 1: Pretrain the basic networks"
   ]
  },
  {
   "cell_type": "markdown",
   "id": "5c49a245-0e97-4edd-8ff3-69e3dff65786",
   "metadata": {},
   "source": [
    "For a more accurate performance in subsequent tasks, we encourage you to pretrain STANDS on large-scale public spatial transcriptomics datasets. This is to ensure better performance in modules related to image feature extraction and feature fusion. This tutorial will guide you through the pretraining steps and automatically save the pretrained weights."
   ]
  },
  {
   "cell_type": "markdown",
   "id": "c1cacf72-2caa-4ca9-a58d-54a80facf119",
   "metadata": {},
   "source": [
    "## Preparation"
   ]
  },
  {
   "cell_type": "code",
   "execution_count": 1,
   "id": "3d4f14e2-653d-41f2-af8f-af1ac7884e5f",
   "metadata": {},
   "outputs": [],
   "source": [
    "import stands"
   ]
  },
  {
   "cell_type": "code",
   "execution_count": 2,
   "id": "8a713ecc-a04b-4702-8828-6b3eb5c9f877",
   "metadata": {},
   "outputs": [],
   "source": [
    "# replace with the path of downloaded demo or another datasets.\n",
    "input_dir = '/volume3/kxu/stdata/'\n",
    "data_name = ['Breast_full_ref1', 'Breast_full_ref2', 'Breast_full_ref3']"
   ]
  },
  {
   "cell_type": "markdown",
   "id": "ca0a9f8b-ae45-430c-b089-242447364d16",
   "metadata": {},
   "source": [
    "## Pretrain STANDS automatically"
   ]
  },
  {
   "cell_type": "code",
   "execution_count": 3,
   "id": "fed0fb69-b357-4529-91fa-1e0147999eda",
   "metadata": {},
   "outputs": [
    {
     "name": "stdout",
     "output_type": "stream",
     "text": [
      "Begin to pretrain STANDS...\n"
     ]
    },
    {
     "name": "stderr",
     "output_type": "stream",
     "text": [
      "Pretrain STNet: 100%|██████████| 200/200 [34:18<00:00, 10.29s/it, Loss=0.0501]\n"
     ]
    },
    {
     "name": "stdout",
     "output_type": "stream",
     "text": [
      "The pretrained weights for STANDS have been automatically saved at /volume1/home/kxu/STANDS/stands/model.pth!\n"
     ]
    }
   ],
   "source": [
    "stands.pretrain(input_dir, data_name)"
   ]
  },
  {
   "cell_type": "markdown",
   "id": "57c2310d-3259-47fa-9508-59a47b629d10",
   "metadata": {},
   "source": [
    "For further details on the `stands.pretrain`, including various parameters, please refer to the API reference documentation."
   ]
  }
 ],
 "metadata": {
  "kernelspec": {
   "display_name": "Python 3 (ipykernel)",
   "language": "python",
   "name": "python3"
  },
  "language_info": {
   "codemirror_mode": {
    "name": "ipython",
    "version": 3
   },
   "file_extension": ".py",
   "mimetype": "text/x-python",
   "name": "python",
   "nbconvert_exporter": "python",
   "pygments_lexer": "ipython3",
   "version": "3.9.15"
  }
 },
 "nbformat": 4,
 "nbformat_minor": 5
}
