{
 "cells": [
  {
   "cell_type": "markdown",
   "id": "a1403d13-3869-4a87-b0e8-272e42cd0642",
   "metadata": {
    "tags": []
   },
   "source": [
    "# Tutorial 4: Detect anomalous subdomains with multimodal data"
   ]
  },
  {
   "cell_type": "markdown",
   "id": "5c49a245-0e97-4edd-8ff3-69e3dff65786",
   "metadata": {},
   "source": [
    "Building upon completed anomaly detection, STANDS also supports further recognition of anomalous subtypes for heterogeneous analysis of carcinogenic regions. Similarly, this section also involves multimodal learning of H&E images and spatial gene expression.\n",
    "\n",
    "This tutorial will guide you through the process step by step. The dataset used here is exactly the same as in Tutorial 2. The reference dataset consists of healthy human breast tissue, while the target dataset consists of human breast cancer tissue, including two types of anomalous regions: cancer in situ and invasive cancer."
   ]
  },
  {
   "cell_type": "markdown",
   "id": "c1cacf72-2caa-4ca9-a58d-54a80facf119",
   "metadata": {},
   "source": [
    "## Preparation"
   ]
  },
  {
   "cell_type": "code",
   "execution_count": 1,
   "id": "e267697c-7fbd-4f9d-92fd-3abb075bddf2",
   "metadata": {},
   "outputs": [],
   "source": [
    "import warnings\n",
    "warnings.filterwarnings(\"ignore\")"
   ]
  },
  {
   "cell_type": "code",
   "execution_count": 2,
   "id": "3d4f14e2-653d-41f2-af8f-af1ac7884e5f",
   "metadata": {},
   "outputs": [],
   "source": [
    "import stands\n",
    "import scanpy as sc\n",
    "import squidpy as sq\n",
    "sc.set_figure_params(figsize=(4, 4))"
   ]
  },
  {
   "cell_type": "code",
   "execution_count": 3,
   "id": "8a713ecc-a04b-4702-8828-6b3eb5c9f877",
   "metadata": {},
   "outputs": [],
   "source": [
    "# replace with the path of downloaded demo or another datasets.\n",
    "input_dir = '/volume3/kxu/data/'\n",
    "ref_name = 'Breast_full_ref1'\n",
    "tgt_name = 'Breast_full_tumor1'\n",
    "\n",
    "ref = sc.read_h5ad(input_dir + ref_name + '.h5ad')\n",
    "tgt = sc.read_h5ad(input_dir + tgt_name + '.h5ad')\n",
    "ref_g, tgt_g = stands.read_cross(input_dir, input_dir, ref_name, tgt_name, train_mode=False)\n",
    "label = [1 if i == 'Cancer in situ' else 2 if i == 'Invasive cancer' else 0 for i in tgt.obs['domain.type']]"
   ]
  },
  {
   "cell_type": "markdown",
   "id": "ca0a9f8b-ae45-430c-b089-242447364d16",
   "metadata": {
    "tags": []
   },
   "source": [
    "## Detect anomalous regions"
   ]
  },
  {
   "cell_type": "markdown",
   "id": "e8e5bcba-3aa4-4599-973f-fadbe35eebcd",
   "metadata": {},
   "source": [
    "The first step is to identify anomalous regions using the exact same approach as in Tutorial 2."
   ]
  },
  {
   "cell_type": "code",
   "execution_count": 4,
   "id": "fed0fb69-b357-4529-91fa-1e0147999eda",
   "metadata": {},
   "outputs": [
    {
     "name": "stdout",
     "output_type": "stream",
     "text": [
      "Begin to fine-tune the model on reference datasets...\n"
     ]
    },
    {
     "name": "stderr",
     "output_type": "stream",
     "text": [
      "Train Epochs: 100%|\u2588\u2588\u2588\u2588\u2588\u2588\u2588\u2588\u2588\u2588| 10/10 [01:42<00:00,  9.33s/it, D_Loss=-.221, G_Loss=0.472]"
     ]
    },
    {
     "name": "stdout",
     "output_type": "stream",
     "text": [
      "Fine-tuning has been finished.\n"
     ]
    },
    {
     "name": "stderr",
     "output_type": "stream",
     "text": [
      "\n"
     ]
    },
    {
     "name": "stdout",
     "output_type": "stream",
     "text": [
      "Detect anomalous spots on target dataset...\n"
     ]
    },
    {
     "name": "stderr",
     "output_type": "stream",
     "text": [
      "Inference Epochs:  19%|\u2588\u2588        | 19/100 [00:00<00:00, 368.01it/s]"
     ]
    },
    {
     "name": "stdout",
     "output_type": "stream",
     "text": [
      "GMM-based thresholder has converged.\n",
      "Anomalous spots have been detected.\n",
      "\n"
     ]
    },
    {
     "name": "stderr",
     "output_type": "stream",
     "text": [
      "\n"
     ]
    }
   ],
   "source": [
    "model = stands.ADNet(n_epochs = 10)\n",
    "model.fit(ref_g)\n",
    "\n",
    "# obtain anomaly scores and predicted labels\n",
    "score, pred = model.predict(tgt_g)"
   ]
  },
  {
   "cell_type": "code",
   "execution_count": 5,
   "id": "08c5c865",
   "metadata": {},
   "outputs": [],
   "source": [
    "tgt.obs['pseudo.label'] = pred\n",
    "train = tgt[tgt.obs['pseudo.label'] == 1, :]\n",
    "train_g = stands.read(train, train_mode=False)"
   ]
  },
  {
   "cell_type": "markdown",
   "id": "2b8db105",
   "metadata": {},
   "source": [
    "## Detect anomalous subdomains"
   ]
  },
  {
   "cell_type": "markdown",
   "id": "ea022d34",
   "metadata": {},
   "source": [
    "STANDS requires feeding the generator trained in the previous `stands.ADNet` into the `stands.SubNet` to ensure consistency in feature extraction."
   ]
  },
  {
   "cell_type": "code",
   "execution_count": 6,
   "id": "a36f0b3b",
   "metadata": {},
   "outputs": [
    {
     "name": "stdout",
     "output_type": "stream",
     "text": [
      "Begin to detect anomalous subdomains...\n"
     ]
    },
    {
     "name": "stderr",
     "output_type": "stream",
     "text": [
      "Train Epochs: 100%|\u2588\u2588\u2588\u2588\u2588\u2588\u2588\u2588\u2588\u2588| 50/50 [01:32<00:00,  1.62s/it, Loss=1e-15]"
     ]
    },
    {
     "name": "stdout",
     "output_type": "stream",
     "text": [
      "Anomalous subdomains have been detected.\n"
     ]
    }
   ],
   "source": [
    "sub_model = stands.SubNet(model.G, n_epochs=50)\n",
    "sub_pred = sub_model.fit(train_g)\n",
    "\n",
    "train.obs['subpred'] = sub_pred\n",
    "train.obs['subpred'] = train.obs['subpred'].astype(int)\n",
    "sub_pred = [train.obs.loc[i, 'subpred'] if i in train.obs_names else 0 for i in tgt.obs_names]"
   ]
  },
  {
   "cell_type": "markdown",
   "id": "22713f8b-cdd2-440b-95a0-2755d206074b",
   "metadata": {
    "tags": []
   },
   "source": [
    "## Evaluate anomalous subdomains detection results"
   ]
  },
  {
   "cell_type": "markdown",
   "id": "b64b6324-ffa4-4b1d-8846-8678064e8b00",
   "metadata": {},
   "source": [
    "STANDS also provides an evaluation function to compute evaluation metric `FI*NMI` for the subtyping performance."
   ]
  },
  {
   "cell_type": "code",
   "execution_count": 7,
   "id": "ff4518f6-f9fc-478b-a7c5-90e7edb39416",
   "metadata": {},
   "outputs": [
    {
     "data": {
      "text/plain": [
       "0.42"
      ]
     },
     "execution_count": 7,
     "metadata": {},
     "output_type": "execute_result"
    }
   ],
   "source": [
    "stands.evaluate(['F1*NMI'], y_true=label, y_pred=sub_pred)"
   ]
  },
  {
   "cell_type": "markdown",
   "id": "57c2310d-3259-47fa-9508-59a47b629d10",
   "metadata": {},
   "source": [
    "For further details on the `stands.SubNet`, including various parameters, please refer to the API reference documentation."
   ]
  }
 ],
 "metadata": {
  "kernelspec": {
   "display_name": "mamba",
   "language": "python",
   "name": "mamba"
  },
  "language_info": {
   "codemirror_mode": {
    "name": "ipython",
    "version": 3
   },
   "file_extension": ".py",
   "mimetype": "text/x-python",
   "name": "python",
   "nbconvert_exporter": "python",
   "pygments_lexer": "ipython3",
   "version": "3.9.15"
  }
 },
 "nbformat": 4,
 "nbformat_minor": 5
}